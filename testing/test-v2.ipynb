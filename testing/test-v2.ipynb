{
 "cells": [
  {
   "cell_type": "code",
   "execution_count": 19,
   "metadata": {},
   "outputs": [],
   "source": [
    "# Prepare Library\n",
    "import cv2\n",
    "import numpy as np\n",
    "import tkinter as tk\n",
    "from tkinter import ttk\n",
    "\n",
    "# REF\n",
    "# https://www.youtube.com/watch?v=W3DzSm8WI1g\n"
   ]
  },
  {
   "cell_type": "code",
   "execution_count": 20,
   "metadata": {},
   "outputs": [],
   "source": [
    "# DEFINE CONSTRAINT\n",
    "WIDHT = 800\n",
    "HEIGHT = 600"
   ]
  },
  {
   "cell_type": "code",
   "execution_count": 21,
   "metadata": {},
   "outputs": [],
   "source": [
    "def scan_detection(image, lower_threshold, upper_threshold):\n",
    "    document_contour = np.array([[0, 0], [WIDHT, 0], [WIDHT, HEIGHT], [0, HEIGHT]])\n",
    "\n",
    "    gray = cv2.cvtColor(image, cv2.COLOR_BGR2GRAY)\n",
    "    blur = cv2.GaussianBlur(gray, (5, 5), 0)\n",
    "    _, threshold = cv2.threshold(blur, lower_threshold, upper_threshold, cv2.THRESH_BINARY + cv2.THRESH_OTSU)\n",
    "\n",
    "    cv2.imshow(\"gray(blur)\", blur)\n",
    "    cv2.imshow(\"threshold\", threshold)\n",
    "\n",
    "    contours, _ = cv2.findContours(threshold, cv2.RETR_LIST, cv2.CHAIN_APPROX_SIMPLE)\n",
    "    contours = sorted(contours, key=cv2.contourArea, reverse=True)\n",
    "\n",
    "    max_area = 0\n",
    "    for contour in contours:\n",
    "        area = cv2.contourArea(contour)\n",
    "        if area > 1000:\n",
    "            peri = cv2.arcLength(contour, True)\n",
    "            approx = cv2.approxPolyDP(contour, 0.015 * peri, True)\n",
    "\n",
    "            if area > max_area and len(approx) == 4:\n",
    "                document_contour = approx\n",
    "                max_area = area\n",
    "\n",
    "    cv2.drawContours(frame, [document_contour], -1, (0, 255, 0), 3)\n"
   ]
  },
  {
   "attachments": {},
   "cell_type": "markdown",
   "metadata": {},
   "source": [
    "V1 - TANPA SETTINGAN THRESHOLD"
   ]
  },
  {
   "cell_type": "code",
   "execution_count": 26,
   "metadata": {},
   "outputs": [],
   "source": [
    "# SETUP VIDEO (OPEN-CV)\n",
    "cap = cv2.VideoCapture(1 )\n",
    "cap.set(cv2.CAP_PROP_FRAME_WIDTH, WIDHT)\n",
    "cap.set(cv2.CAP_PROP_FRAME_HEIGHT, HEIGHT)\n",
    "\n",
    "while True:\n",
    "    _, frame = cap.read()\n",
    "    # -- Kalau mau di rotate -- \n",
    "    # frame = cv2.rotate(frame, cv2.ROTATE_180)\n",
    "    frame_copy = frame.copy()\n",
    "\n",
    "    lower_thresh = 0\n",
    "    upper_thresh = 255\n",
    "    scan_detection(frame_copy, lower_thresh, upper_thresh)\n",
    "\n",
    "\n",
    "    cv2.imshow(\"input\", frame)\n",
    "\n",
    "    # ESC button\n",
    "    if cv2.waitKey(1) & 0xFF == 27:\n",
    "        break\n",
    "\n",
    "cv2.destroyAllWindows()"
   ]
  },
  {
   "attachments": {},
   "cell_type": "markdown",
   "metadata": {},
   "source": [
    "V2 - DENGAN SETTINGAN THRESHOLD"
   ]
  },
  {
   "cell_type": "code",
   "execution_count": 24,
   "metadata": {},
   "outputs": [],
   "source": [
    "# SETUP VIDEO (OpenCV)\n",
    "cap = cv2.VideoCapture(1)\n",
    "cap.set(cv2.CAP_PROP_FRAME_WIDTH, WIDHT)\n",
    "cap.set(cv2.CAP_PROP_FRAME_HEIGHT, HEIGHT)\n",
    "\n",
    "# Create Tkinter GUI\n",
    "root = tk.Tk()\n",
    "root.title(\"Threshold Settings\")\n",
    "root.geometry(\"400x100\")\n",
    "\n",
    "# Create a scale for lower threshold\n",
    "lower_thresh_label = ttk.Label(root, text=\"Lower Threshold\")\n",
    "lower_thresh_label.pack()\n",
    "\n",
    "lower_thresh_scale = ttk.Scale(root, from_=0, to=255, length=300, orient=\"horizontal\")\n",
    "lower_thresh_scale.set(50)  # Initial value\n",
    "lower_thresh_scale.pack()\n",
    "\n",
    "# Create a scale for upper threshold\n",
    "upper_thresh_label = ttk.Label(root, text=\"Upper Threshold\")\n",
    "upper_thresh_label.pack()\n",
    "\n",
    "upper_thresh_scale = ttk.Scale(root, from_=0, to=255, length=300, orient=\"horizontal\")\n",
    "upper_thresh_scale.set(200)  # Initial value\n",
    "upper_thresh_scale.pack()\n",
    "\n",
    "def update_threshold():\n",
    "    _, frame = cap.read()\n",
    "    frame_copy = frame.copy()\n",
    "\n",
    "    lower_thresh = lower_thresh_scale.get()\n",
    "    upper_thresh = upper_thresh_scale.get()\n",
    "\n",
    "    scan_detection(frame_copy, lower_thresh, upper_thresh)\n",
    "    cv2.imshow(\"input\", frame)\n",
    "\n",
    "    # Call this function again after 1ms\n",
    "    root.after(1, update_threshold)\n",
    "\n",
    "# Call the update_threshold function initially\n",
    "update_threshold()\n",
    "\n",
    "# Start Tkinter event loop\n",
    "root.mainloop()\n",
    "\n",
    "# Release video capture and destroy windows\n",
    "cap.release()\n",
    "cv2.destroyAllWindows()"
   ]
  }
 ],
 "metadata": {
  "kernelspec": {
   "display_name": ".venv",
   "language": "python",
   "name": "python3"
  },
  "language_info": {
   "codemirror_mode": {
    "name": "ipython",
    "version": 3
   },
   "file_extension": ".py",
   "mimetype": "text/x-python",
   "name": "python",
   "nbconvert_exporter": "python",
   "pygments_lexer": "ipython3",
   "version": "3.11.3"
  },
  "orig_nbformat": 4
 },
 "nbformat": 4,
 "nbformat_minor": 2
}
